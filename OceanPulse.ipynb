{
  "cells": [
    {
      "cell_type": "markdown",
      "id": "ed38e829",
      "metadata": {
        "id": "ed38e829"
      },
      "source": [
        "# OceanPulse: Sea Surface Temperature (SST) Visualization & Anomaly Detection\n",
        "Welcome to OceanPulse — a combined exploration of real-time SST data (from MODIS Aqua CSV) and long-term SST climatology (from NOAA NetCDF).\n",
        "This notebook visualizes ocean temperature and detects anomalies for April 2025."
      ]
    },
    {
      "cell_type": "code",
      "execution_count": null,
      "id": "f96b1f3d",
      "metadata": {
        "id": "f96b1f3d"
      },
      "outputs": [],
      "source": [
        "!pip install xarray netCDF4 pandas matplotlib seaborn"
      ]
    },
    {
      "cell_type": "code",
      "execution_count": null,
      "id": "a29b7877",
      "metadata": {
        "id": "a29b7877"
      },
      "outputs": [],
      "source": [
        "# Upload both required files: CSV and NetCDF\n",
        "from google.colab import files\n",
        "uploaded = files.upload()"
      ]
    },
    {
      "cell_type": "code",
      "execution_count": null,
      "id": "e879d715",
      "metadata": {
        "id": "e879d715"
      },
      "outputs": [],
      "source": [
        "# Load and clean the CSV snapshot (April 2025)\n",
        "import pandas as pd\n",
        "import matplotlib.pyplot as plt\n",
        "import seaborn as sns\n",
        "\n",
        "csv_df = pd.read_csv('MYD28M_2025-04-01_gs_250x125.SS.CSV')\n",
        "csv_long = csv_df.melt(id_vars=['lat/lon'], var_name='longitude', value_name='sst')\n",
        "csv_long.rename(columns={'lat/lon': 'latitude'}, inplace=True)\n",
        "csv_long['latitude'] = pd.to_numeric(csv_long['latitude'])\n",
        "csv_long['longitude'] = pd.to_numeric(csv_long['longitude'])\n",
        "csv_long = csv_long[csv_long['sst'] < 1000]"
      ]
    },
    {
      "cell_type": "code",
      "execution_count": null,
      "id": "a6272a9b",
      "metadata": {
        "id": "a6272a9b"
      },
      "outputs": [],
      "source": [
        "# Plot SST heatmap for April 2025\n",
        "pivot_csv = csv_long.pivot(index='latitude', columns='longitude', values='sst').sort_index(ascending=False)\n",
        "plt.figure(figsize=(14, 8))\n",
        "sns.heatmap(pivot_csv, cmap='coolwarm', cbar_kws={'label': 'SST (°C)'})\n",
        "plt.title('Snapshot SST — April 2025 (MODIS Aqua)')\n",
        "plt.xlabel('Longitude')\n",
        "plt.ylabel('Latitude')\n",
        "plt.show()"
      ]
    },
    {
      "cell_type": "code",
      "execution_count": null,
      "id": "6da408ec",
      "metadata": {
        "id": "6da408ec"
      },
      "outputs": [],
      "source": [
        "import xarray as xr\n",
        "\n",
        "ds = xr.open_dataset('sst.mnmean.nc')\n",
        "df_nc = ds['sst'].to_dataframe().reset_index().dropna()\n",
        "\n",
        "# Filter only April data\n",
        "df_april = df_nc[df_nc['time'].dt.month == 4]\n",
        "df_april_clim = df_april.groupby(['lat', 'lon'])['sst'].mean().reset_index()\n",
        "df_april_clim.rename(columns={'sst': 'sst_climatology'}, inplace=True)\n"
      ]
    },
    {
      "cell_type": "code",
      "execution_count": null,
      "id": "5a035b9d",
      "metadata": {
        "id": "5a035b9d"
      },
      "outputs": [],
      "source": [
        "from scipy.spatial import cKDTree\n",
        "import numpy as np\n",
        "\n",
        "# Prepare arrays\n",
        "snapshot_coords = csv_long[['latitude', 'longitude']].values\n",
        "climatology_coords = df_april_clim[['lat', 'lon']].values\n",
        "\n",
        "# KDTree for nearest neighbor search\n",
        "tree = cKDTree(climatology_coords)\n",
        "dist, idx = tree.query(snapshot_coords, k=1)\n",
        "\n",
        "# Get matched climatology points\n",
        "matched_clim = df_april_clim.iloc[idx].reset_index(drop=True)\n",
        "snapshot_clean = csv_long.reset_index(drop=True)\n",
        "\n",
        "# Merge values\n",
        "merged_nn = pd.concat([snapshot_clean, matched_clim], axis=1)\n",
        "merged_nn['sst_anomaly'] = merged_nn['sst'] - merged_nn['sst_climatology']"
      ]
    },
    {
      "cell_type": "code",
      "execution_count": null,
      "id": "ba36499f",
      "metadata": {
        "id": "ba36499f"
      },
      "outputs": [],
      "source": [
        "pivot_anomaly = merged_nn.pivot(index='latitude', columns='longitude', values='sst_anomaly').sort_index(ascending=False)\n",
        "\n",
        "if not pivot_anomaly.empty and pivot_anomaly.notna().values.any():\n",
        "    plt.figure(figsize=(14, 8))\n",
        "    sns.heatmap(pivot_anomaly, cmap='RdBu_r', center=0, cbar_kws={'label': 'SST Anomaly (°C)'})\n",
        "    plt.title('SST Anomaly — April 2025 vs Climatological April Average')\n",
        "    plt.xlabel('Longitude')\n",
        "    plt.ylabel('Latitude')\n",
        "    plt.show()\n",
        "else:\n",
        "    print(\"Still no data to plot — even after nearest neighbor fix.\")"
      ]
    },
    {
      "cell_type": "markdown",
      "id": "7f8632db",
      "metadata": {
        "id": "7f8632db"
      },
      "source": [
        "### Summary\n",
        "- Visualized real SST data from MODIS Aqua for April 2025\n",
        "- Compared it against 40+ years of NOAA SST records\n",
        "- Computed and visualized temperature anomalies\n",
        "\n",
        "_You can now extend this project by animating SST trends, exploring El Niño zones_"
      ]
    }
  ],
  "metadata": {
    "colab": {
      "provenance": []
    },
    "language_info": {
      "name": "python"
    },
    "kernelspec": {
      "name": "python3",
      "display_name": "Python 3"
    }
  },
  "nbformat": 4,
  "nbformat_minor": 5
}
